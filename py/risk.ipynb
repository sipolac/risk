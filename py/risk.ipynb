{
 "cells": [
  {
   "cell_type": "code",
   "execution_count": 1,
   "metadata": {},
   "outputs": [],
   "source": [
    "import numpy as np"
   ]
  },
  {
   "cell_type": "code",
   "execution_count": 2,
   "metadata": {},
   "outputs": [],
   "source": [
    "def get_loss_probs(dice, sides):\n",
    "    '''\n",
    "    Calculate probability of defense losing each possible number of troops.\n",
    "    \n",
    "    Args:\n",
    "        dice (tup): Number of dice for attack and defense, respectively\n",
    "        sides (tup): Number of sides on dice for attack and defense, respectively\n",
    "    \n",
    "    Returns:\n",
    "        dict (of floats): Probability defense suffers losses indicated in key\n",
    "    '''\n",
    "\n",
    "    # Enumerate all possible roll combinations. First rows are for attack\n",
    "    # (up to 3) and last few for defense (up to 2).\n",
    "    possible_sides = []\n",
    "    for i in range(2):\n",
    "        for _ in range(dice[i]):\n",
    "            possible_sides.append(range(1,sides[i]+1))\n",
    "    all_roll_combos = np.array(np.meshgrid(*possible_sides)).reshape(sum(dice),-1).T\n",
    "\n",
    "    # Sort attack and defense columns separately.\n",
    "    sort_rows_asc = lambda array2d: -np.array(map(sorted, -array2d))\n",
    "    attack = sort_rows_asc(all_roll_combos[:,:dice[0]])\n",
    "    defense = sort_rows_asc(all_roll_combos[:,dice[0]:])\n",
    "\n",
    "    # Calculate number of troops defense loses in each engagement.\n",
    "    total_losses = min(dice)\n",
    "    defense_troops_lost = (attack[:,:total_losses] > defense[:,:total_losses]).sum(axis=1)\n",
    "\n",
    "    # Calculate frequencies of each loss number for defense.\n",
    "    freqs = {}\n",
    "    for lost in defense_troops_lost:\n",
    "        freqs[lost] = freqs.get(lost,0) + 1\n",
    "\n",
    "    # Calculate probs by just dividing by number of combos.\n",
    "    probs = {lost:freq/float(len(defense_troops_lost)) for lost,freq in freqs.iteritems()}\n",
    "\n",
    "    return probs"
   ]
  },
  {
   "cell_type": "code",
   "execution_count": 3,
   "metadata": {},
   "outputs": [],
   "source": [
    "def get_probs(sides):\n",
    "    '''\n",
    "    Args:\n",
    "        sides (tup): Number of sides on dice for attack and defense, respectively\n",
    "    \n",
    "    Returns:\n",
    "        dict (of dicts): Key is tuple for attack and defense dice. Value is\n",
    "            output from get_loss_probs()\n",
    "    '''\n",
    "    probs = {}\n",
    "    for atk in range(1,4):\n",
    "        for dfn in range(1,3):\n",
    "            dice = (atk, dfn)\n",
    "            probs[dice] = get_loss_probs(dice, sides)\n",
    "    return probs"
   ]
  },
  {
   "cell_type": "code",
   "execution_count": 4,
   "metadata": {},
   "outputs": [
    {
     "data": {
      "text/plain": [
       "{(1, 1): {0: 0.5833333333333334, 1: 0.4166666666666667},\n",
       " (1, 2): {0: 0.7453703703703703, 1: 0.25462962962962965},\n",
       " (2, 1): {0: 0.4212962962962963, 1: 0.5787037037037037},\n",
       " (2, 2): {0: 0.44830246913580246,\n",
       "  1: 0.32407407407407407,\n",
       "  2: 0.22762345679012347},\n",
       " (3, 1): {0: 0.3402777777777778, 1: 0.6597222222222222},\n",
       " (3, 2): {0: 0.2925668724279835,\n",
       "  1: 0.3357767489711934,\n",
       "  2: 0.37165637860082307}}"
      ]
     },
     "execution_count": 4,
     "metadata": {},
     "output_type": "execute_result"
    }
   ],
   "source": [
    "get_probs((6,6))"
   ]
  },
  {
   "cell_type": "code",
   "execution_count": null,
   "metadata": {},
   "outputs": [],
   "source": []
  }
 ],
 "metadata": {
  "kernelspec": {
   "display_name": "Python 2",
   "language": "python",
   "name": "python2"
  },
  "language_info": {
   "codemirror_mode": {
    "name": "ipython",
    "version": 2
   },
   "file_extension": ".py",
   "mimetype": "text/x-python",
   "name": "python",
   "nbconvert_exporter": "python",
   "pygments_lexer": "ipython2",
   "version": "2.7.14"
  }
 },
 "nbformat": 4,
 "nbformat_minor": 2
}
