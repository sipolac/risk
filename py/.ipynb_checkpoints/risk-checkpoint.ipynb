{
 "cells": [
  {
   "cell_type": "code",
   "execution_count": 1,
   "metadata": {},
   "outputs": [],
   "source": [
    "import numpy as np\n",
    "\n",
    "from risk import *"
   ]
  },
  {
   "cell_type": "code",
   "execution_count": 2,
   "metadata": {},
   "outputs": [
    {
     "data": {
      "text/plain": [
       "{(1, 1): {0: 0.5833333333333334, 1: 0.4166666666666667},\n",
       " (1, 2): {0: 0.7453703703703703, 1: 0.25462962962962965},\n",
       " (2, 1): {0: 0.4212962962962963, 1: 0.5787037037037037},\n",
       " (2, 2): {0: 0.44830246913580246,\n",
       "  1: 0.32407407407407407,\n",
       "  2: 0.22762345679012347},\n",
       " (3, 1): {0: 0.3402777777777778, 1: 0.6597222222222222},\n",
       " (3, 2): {0: 0.2925668724279835,\n",
       "  1: 0.3357767489711934,\n",
       "  2: 0.37165637860082307}}"
      ]
     },
     "execution_count": 2,
     "metadata": {},
     "output_type": "execute_result"
    }
   ],
   "source": [
    "get_probs((6,6))"
   ]
  }
 ],
 "metadata": {
  "kernelspec": {
   "display_name": "Python 2",
   "language": "python",
   "name": "python2"
  },
  "language_info": {
   "codemirror_mode": {
    "name": "ipython",
    "version": 2
   },
   "file_extension": ".py",
   "mimetype": "text/x-python",
   "name": "python",
   "nbconvert_exporter": "python",
   "pygments_lexer": "ipython2",
   "version": "2.7.14"
  }
 },
 "nbformat": 4,
 "nbformat_minor": 2
}
