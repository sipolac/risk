{
 "cells": [
  {
   "cell_type": "code",
   "execution_count": 1,
   "metadata": {},
   "outputs": [],
   "source": [
    "import numpy as np\n",
    "import pandas as pd\n",
    "\n",
    "import matplotlib.pyplot as plt\n",
    "import seaborn as sns\n",
    "\n",
    "from risk import *\n",
    "\n",
    "%matplotlib inline"
   ]
  },
  {
   "cell_type": "code",
   "execution_count": 2,
   "metadata": {},
   "outputs": [
    {
     "data": {
      "text/plain": [
       "0.72396997846648747"
      ]
     },
     "execution_count": 2,
     "metadata": {},
     "output_type": "execute_result"
    }
   ],
   "source": [
    "# Calculate probability of attack winning given 10 attacking\n",
    "# armies (that is, 11 troops on the attacking territory), 8\n",
    "# defending armies, and 6 sides on all dice.\n",
    "outcomes = get_outcomes((10,8),(6,6))\n",
    "attack_win_prob(outcomes)"
   ]
  },
  {
   "cell_type": "code",
   "execution_count": 3,
   "metadata": {},
   "outputs": [
    {
     "data": {
      "text/plain": [
       "0.4781383557679707"
      ]
     },
     "execution_count": 3,
     "metadata": {},
     "output_type": "execute_result"
    }
   ],
   "source": [
    "# Now give defense a +1 bonus.\n",
    "outcomes = get_outcomes((10,8),(6,7))\n",
    "attack_win_prob(outcomes)  # odds decrease substantially"
   ]
  },
  {
   "cell_type": "code",
   "execution_count": 35,
   "metadata": {},
   "outputs": [
    {
     "data": {
      "image/png": "[encoded data removed]",
      "text/plain": [
       "<matplotlib.figure.Figure at 0x117620c10>"
      ]
     },
     "metadata": {},
     "output_type": "display_data"
    },
    {
     "data": {
      "image/png": "[encoded data removed]",
      "text/plain": [
       "<matplotlib.figure.Figure at 0x117967c90>"
      ]
     },
     "metadata": {},
     "output_type": "display_data"
    }
   ],
   "source": [
    "# Visualize outcomes.\n",
    "outcomes = get_outcomes((10,8),(6,6))\n",
    "df = pd.DataFrame({'prob': outcomes}).reset_index()\n",
    "df.rename({'level_0': 'attack', 'level_1': 'defense'}, axis=1, inplace=True)\n",
    "for player in ['attack', 'defense']:\n",
    "    df_player = df.groupby(player).sum().reset_index()\n",
    "    ax = sns.barplot(y='prob', x=player, data=df_player)\n",
    "    ax.set(xlabel='{}: number of armies surviving'.format(player))\n",
    "    plt.show()"
   ]
  }
 ],
 "metadata": {
  "kernelspec": {
   "display_name": "Python 2",
   "language": "python",
   "name": "python2"
  },
  "language_info": {
   "codemirror_mode": {
    "name": "ipython",
    "version": 2
   },
   "file_extension": ".py",
   "mimetype": "text/x-python",
   "name": "python",
   "nbconvert_exporter": "python",
   "pygments_lexer": "ipython2",
   "version": "2.7.14"
  }
 },
 "nbformat": 4,
 "nbformat_minor": 2
}
